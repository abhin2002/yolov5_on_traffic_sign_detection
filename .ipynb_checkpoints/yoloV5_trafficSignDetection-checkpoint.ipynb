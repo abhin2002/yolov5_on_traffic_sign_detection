{
 "cells": [
  {
   "cell_type": "code",
   "execution_count": 1,
   "id": "167e0d31",
   "metadata": {},
   "outputs": [],
   "source": [
    "import torch"
   ]
  },
  {
   "cell_type": "code",
   "execution_count": 8,
   "id": "5e6e6bd1",
   "metadata": {},
   "outputs": [],
   "source": [
    "from IPython.display import Image #this is to render predictions"
   ]
  },
  {
   "cell_type": "code",
   "execution_count": 10,
   "id": "86522c65",
   "metadata": {},
   "outputs": [
    {
     "name": "stdout",
     "output_type": "stream",
     "text": [
      "[WinError 2] The system cannot find the file specified: 'yolov5'\n",
      "C:\\Users\\91892\\Desktop\\PIX DYNAMICS\\yolo\\yolov5\n"
     ]
    }
   ],
   "source": [
    "%cd yolov5"
   ]
  },
  {
   "cell_type": "markdown",
   "id": "1800483c",
   "metadata": {},
   "source": [
    "# Devide dataset into trainig and validation sets"
   ]
  },
  {
   "cell_type": "code",
   "execution_count": 12,
   "id": "aedd0338",
   "metadata": {},
   "outputs": [],
   "source": [
    "import os\n",
    "from random import choice\n",
    "import shutil\n",
    "\n",
    "#arrays to store file names\n",
    "imgs =[]\n",
    "xmls =[]\n",
    "\n",
    "trainPath = 'C:/Users/91892/Desktop/PIX DYNAMICS/yolo/dataset/images/train'\n",
    "valPath = 'C:/Users/91892/Desktop/PIX DYNAMICS/yolo/dataset/images/val'\n",
    "crsPath = 'C:/Users/91892/Desktop/PIX DYNAMICS/yolo/Data/ts'"
   ]
  },
  {
   "cell_type": "code",
   "execution_count": null,
   "id": "c4d8d895",
   "metadata": {},
   "outputs": [],
   "source": []
  }
 ],
 "metadata": {
  "kernelspec": {
   "display_name": "Python 3 (ipykernel)",
   "language": "python",
   "name": "python3"
  },
  "language_info": {
   "codemirror_mode": {
    "name": "ipython",
    "version": 3
   },
   "file_extension": ".py",
   "mimetype": "text/x-python",
   "name": "python",
   "nbconvert_exporter": "python",
   "pygments_lexer": "ipython3",
   "version": "3.10.9"
  }
 },
 "nbformat": 4,
 "nbformat_minor": 5
}
